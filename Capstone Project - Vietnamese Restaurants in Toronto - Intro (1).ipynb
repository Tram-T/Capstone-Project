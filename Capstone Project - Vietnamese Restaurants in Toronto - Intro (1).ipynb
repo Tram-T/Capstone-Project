{
 "cells": [
  {
   "cell_type": "markdown",
   "metadata": {},
   "source": [
    "# IBM Data Science - Capstone Project\n",
    "\n",
    "## Week 4 - Opening a Vietnamese Restaurant in the city of Toronto, Canada - INTRO\n",
    "--------------------------------------------------------------------------------"
   ]
  },
  {
   "cell_type": "markdown",
   "metadata": {},
   "source": [
    "## Executive Summary"
   ]
  },
  {
   "cell_type": "markdown",
   "metadata": {},
   "source": [
    "**1. Background** \n",
    "\n",
    "Toronto is a diversified city which welcomes different cultures in the world, comes with it their cuisine. This makes great opportunities for restaurant business owners to blend in by bringing their great food to offer. However, this advantage could become a waste if one does not have a clear strategy, especially, of where the best location to open a restaurant should be. This is where data science comes in with great help to business owners to make the best data-driven decisions.\n",
    "\n",
    "\n",
    "**2.Topic description**\n",
    "\n",
    "On the mentioned background, I chose Vietnamese cuisine as topic for the research of the optimal neighborhood(s) to open a restaurant in Toronto, with forever love for the food, the people and the culture of Vietnam, and for the diversified beauty of Toronto.\n",
    "\n",
    "\n",
    "**3.Target audience**\n",
    "\n",
    "The main target audience of this analysis is business owners who are seeking to open a new Vietnamese restaurant in Toronto, Canada. \n",
    "Besides, this report could also be useful for investors targeting to invest in Food and Beverage sector in Toronto. \n",
    "\n",
    "\n",
    "**4.How is the analysis useful for the target audience?**\n",
    "\n",
    "- For business owners – the main target audience, this analysis aims to provide them a general picture on how all types of venues are distributed across all the neighborhoods in Toronto, which would be the first factor to decide on where it could be potential locations to open a new restaurants. Next, more detailed comparison on how the current restaurants are spread through the city, across the neighborhoods and by cuisine, especially Asian and Vietnamese would give the target owners a clearer view on where there direct (other Vietnamese restaurants) and indirect (other Asian restaurants) competitors are situated. With all taken into account, choosing a neighborhood where there are a high number of restaurants with high customer traffic, but not with so many Asian or Vietnamese restaurants to mitigate competition could be the optimal decision.\n",
    "\n",
    "- For investors in F&B sectors, the first part of the analysis on venue and restaurant distribution would be greatly useful as they would have the whole picture on where each types of restaurants by cuisine are located, and also which locations would be potential for their future business investments.\n"
   ]
  }
 ],
 "metadata": {
  "kernelspec": {
   "display_name": "Python",
   "language": "python",
   "name": "conda-env-python-py"
  },
  "language_info": {
   "codemirror_mode": {
    "name": "ipython",
    "version": 3
   },
   "file_extension": ".py",
   "mimetype": "text/x-python",
   "name": "python",
   "nbconvert_exporter": "python",
   "pygments_lexer": "ipython3",
   "version": "3.6.12"
  }
 },
 "nbformat": 4,
 "nbformat_minor": 4
}
